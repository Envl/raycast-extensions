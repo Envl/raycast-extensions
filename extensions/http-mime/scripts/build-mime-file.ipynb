{
 "cells": [
  {
   "cell_type": "code",
   "execution_count": 32,
   "metadata": {},
   "outputs": [
    {
     "name": "stdout",
     "output_type": "stream",
     "text": [
      "[{'mime': 'application/atom+xml', 'exts': ['.atom']}, {'mime': 'application/json', 'exts': ['.json', '.map', '.topojson']}, {'mime': 'application/ld+json', 'exts': ['.jsonld']}, {'mime': 'application/rss+xml', 'exts': ['.rss']}, {'mime': 'application/geo+json', 'exts': ['.geojson']}, {'mime': 'application/rdf+xml', 'exts': ['.rdf']}, {'mime': 'application/xml', 'exts': ['.xml']}]\n",
      "[{'mime': 'text/javascript', 'exts': ['.js', '.mjs']}]\n",
      "[{'mime': 'application/manifest+json', 'exts': ['.webmanifest']}, {'mime': 'application/x-web-app-manifest+json', 'exts': ['.webapp']}, {'mime': 'text/cache-manifest', 'exts': ['.appcache']}]\n",
      "[{'mime': 'audio/mp4', 'exts': ['.f4a', '.f4b', '.m4a']}, {'mime': 'audio/ogg', 'exts': ['.oga', '.ogg', '.opus']}, {'mime': 'image/bmp', 'exts': ['.bmp']}, {'mime': 'image/svg+xml', 'exts': ['.svg', '.svgz']}, {'mime': 'image/webp', 'exts': ['.webp']}, {'mime': 'video/mp4', 'exts': ['.f4v', '.f4p', '.m4v', '.mp4']}, {'mime': 'video/ogg', 'exts': ['.ogv']}, {'mime': 'video/webm', 'exts': ['.webm']}, {'mime': 'image/x-icon', 'exts': ['.cur', '.ico']}]\n",
      "[{'mime': 'image/heic', 'exts': ['.heic']}, {'mime': 'image/heif', 'exts': ['.heif']}]\n",
      "[{'mime': 'image/heics', 'exts': ['.heics']}, {'mime': 'image/heifs', 'exts': ['.heifs']}]\n",
      "[{'mime': 'image/avif', 'exts': ['.avif']}]\n",
      "[{'mime': 'image/avis', 'exts': ['.avis']}]\n",
      "[{'mime': 'application/wasm', 'exts': ['.wasm']}]\n",
      "[{'mime': 'font/woff', 'exts': ['.woff']}, {'mime': 'font/woff2', 'exts': ['.woff2']}, {'mime': 'application/vnd.ms-fontobject', 'exts': ['.eot']}, {'mime': 'font/ttf', 'exts': ['.ttf']}, {'mime': 'font/collection', 'exts': ['.ttc']}, {'mime': 'font/otf', 'exts': ['.otf']}]\n"
     ]
    }
   ],
   "source": [
    "import json\n",
    "\n",
    "with open('./mime-def.md') as f:\n",
    "  cat_map = {}\n",
    "  category = None\n",
    "  for l in f.readlines():\n",
    "    if l.startswith('<'):\n",
    "      continue\n",
    "    if l.strip().startswith('#'):\n",
    "      new_cat = l.strip()[1:].strip()\n",
    "      if category != new_cat and category is not None:\n",
    "        print(cat_map[category])\n",
    "      category = new_cat\n",
    "      cat_map[category] = cat_map[category] if category in cat_map else []\n",
    "    else:\n",
    "      items = l.split()\n",
    "      mime = items[1]\n",
    "      exts = [f'.{ext}' for ext in items[2:]]\n",
    "      cat_map[category].append({\n",
    "        'mime':mime,\n",
    "        'exts':exts\n",
    "        })\n",
    "  \n",
    "  with open('../src/mime-map.json','w') as f:\n",
    "    json.dump(cat_map,f)\n",
    "\n"
   ]
  },
  {
   "cell_type": "code",
   "execution_count": null,
   "metadata": {},
   "outputs": [],
   "source": []
  }
 ],
 "metadata": {
  "kernelspec": {
   "display_name": "Python 3",
   "language": "python",
   "name": "python3"
  },
  "language_info": {
   "codemirror_mode": {
    "name": "ipython",
    "version": 3
   },
   "file_extension": ".py",
   "mimetype": "text/x-python",
   "name": "python",
   "nbconvert_exporter": "python",
   "pygments_lexer": "ipython3",
   "version": "3.11.4"
  },
  "orig_nbformat": 4
 },
 "nbformat": 4,
 "nbformat_minor": 2
}
